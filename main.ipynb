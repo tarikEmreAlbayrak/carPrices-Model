{
 "cells": [
  {
   "cell_type": "code",
   "execution_count": 1,
   "id": "dc5c3648-8cd9-406e-92b0-e864a6ee6e8b",
   "metadata": {},
   "outputs": [
    {
     "name": "stdout",
     "output_type": "stream",
     "text": [
      "WARNING:tensorflow:From C:\\Users\\Emre\\AppData\\Local\\Programs\\Python\\Python311\\Lib\\site-packages\\keras\\src\\losses.py:2976: The name tf.losses.sparse_softmax_cross_entropy is deprecated. Please use tf.compat.v1.losses.sparse_softmax_cross_entropy instead.\n",
      "\n"
     ]
    }
   ],
   "source": [
    "import numpy as np\n",
    "import pandas as pd\n",
    "import seaborn as sbn\n",
    "import matplotlib.pyplot as plt\n",
    "import tensorflow as tf"
   ]
  },
  {
   "cell_type": "code",
   "execution_count": 24,
   "id": "7602919b-d3ae-4e90-86e2-c186c82625fb",
   "metadata": {},
   "outputs": [],
   "source": [
    "data = pd.read_csv(\"merc.csv\")"
   ]
  },
  {
   "cell_type": "code",
   "execution_count": 25,
   "id": "61f7353f-37db-4090-a32c-51a660d5f715",
   "metadata": {},
   "outputs": [],
   "source": [
    "numericalData = data.drop([\"model\", \"fuelType\", \"transmission\"], axis=1)"
   ]
  },
  {
   "cell_type": "code",
   "execution_count": 26,
   "id": "ad46dc0f-1d71-4db7-a226-3bfe63cf85d2",
   "metadata": {},
   "outputs": [
    {
     "data": {
      "text/html": [
       "<div>\n",
       "<style scoped>\n",
       "    .dataframe tbody tr th:only-of-type {\n",
       "        vertical-align: middle;\n",
       "    }\n",
       "\n",
       "    .dataframe tbody tr th {\n",
       "        vertical-align: top;\n",
       "    }\n",
       "\n",
       "    .dataframe thead th {\n",
       "        text-align: right;\n",
       "    }\n",
       "</style>\n",
       "<table border=\"1\" class=\"dataframe\">\n",
       "  <thead>\n",
       "    <tr style=\"text-align: right;\">\n",
       "      <th></th>\n",
       "      <th>model</th>\n",
       "      <th>year</th>\n",
       "      <th>price</th>\n",
       "      <th>transmission</th>\n",
       "      <th>mileage</th>\n",
       "      <th>fuelType</th>\n",
       "      <th>tax</th>\n",
       "      <th>mpg</th>\n",
       "      <th>engineSize</th>\n",
       "    </tr>\n",
       "  </thead>\n",
       "  <tbody>\n",
       "    <tr>\n",
       "      <th>0</th>\n",
       "      <td>SLK</td>\n",
       "      <td>2005</td>\n",
       "      <td>5200</td>\n",
       "      <td>Automatic</td>\n",
       "      <td>63000</td>\n",
       "      <td>Petrol</td>\n",
       "      <td>325</td>\n",
       "      <td>32.1</td>\n",
       "      <td>1.8</td>\n",
       "    </tr>\n",
       "    <tr>\n",
       "      <th>1</th>\n",
       "      <td>S Class</td>\n",
       "      <td>2017</td>\n",
       "      <td>34948</td>\n",
       "      <td>Automatic</td>\n",
       "      <td>27000</td>\n",
       "      <td>Hybrid</td>\n",
       "      <td>20</td>\n",
       "      <td>61.4</td>\n",
       "      <td>2.1</td>\n",
       "    </tr>\n",
       "    <tr>\n",
       "      <th>2</th>\n",
       "      <td>SL CLASS</td>\n",
       "      <td>2016</td>\n",
       "      <td>49948</td>\n",
       "      <td>Automatic</td>\n",
       "      <td>6200</td>\n",
       "      <td>Petrol</td>\n",
       "      <td>555</td>\n",
       "      <td>28.0</td>\n",
       "      <td>5.5</td>\n",
       "    </tr>\n",
       "    <tr>\n",
       "      <th>3</th>\n",
       "      <td>G Class</td>\n",
       "      <td>2016</td>\n",
       "      <td>61948</td>\n",
       "      <td>Automatic</td>\n",
       "      <td>16000</td>\n",
       "      <td>Petrol</td>\n",
       "      <td>325</td>\n",
       "      <td>30.4</td>\n",
       "      <td>4.0</td>\n",
       "    </tr>\n",
       "    <tr>\n",
       "      <th>4</th>\n",
       "      <td>G Class</td>\n",
       "      <td>2016</td>\n",
       "      <td>73948</td>\n",
       "      <td>Automatic</td>\n",
       "      <td>4000</td>\n",
       "      <td>Petrol</td>\n",
       "      <td>325</td>\n",
       "      <td>30.1</td>\n",
       "      <td>4.0</td>\n",
       "    </tr>\n",
       "  </tbody>\n",
       "</table>\n",
       "</div>"
      ],
      "text/plain": [
       "       model  year  price transmission  mileage fuelType  tax   mpg  \\\n",
       "0        SLK  2005   5200    Automatic    63000   Petrol  325  32.1   \n",
       "1    S Class  2017  34948    Automatic    27000   Hybrid   20  61.4   \n",
       "2   SL CLASS  2016  49948    Automatic     6200   Petrol  555  28.0   \n",
       "3    G Class  2016  61948    Automatic    16000   Petrol  325  30.4   \n",
       "4    G Class  2016  73948    Automatic     4000   Petrol  325  30.1   \n",
       "\n",
       "   engineSize  \n",
       "0         1.8  \n",
       "1         2.1  \n",
       "2         5.5  \n",
       "3         4.0  \n",
       "4         4.0  "
      ]
     },
     "execution_count": 26,
     "metadata": {},
     "output_type": "execute_result"
    }
   ],
   "source": [
    "data.head()"
   ]
  },
  {
   "cell_type": "code",
   "execution_count": 27,
   "id": "ff78cac3-133c-43df-808a-a88ccaaee5d5",
   "metadata": {},
   "outputs": [
    {
     "data": {
      "text/plain": [
       "0        2005\n",
       "1        2017\n",
       "2        2016\n",
       "3        2016\n",
       "4        2016\n",
       "         ... \n",
       "13114    2020\n",
       "13115    2020\n",
       "13116    2019\n",
       "13117    2019\n",
       "13118    2019\n",
       "Name: year, Length: 13119, dtype: int64"
      ]
     },
     "execution_count": 27,
     "metadata": {},
     "output_type": "execute_result"
    }
   ],
   "source": [
    "data[\"year\"]"
   ]
  },
  {
   "cell_type": "code",
   "execution_count": 28,
   "id": "905c9fb9-163f-4d91-b1b7-a49dcabf304d",
   "metadata": {},
   "outputs": [
    {
     "data": {
      "text/html": [
       "<div>\n",
       "<style scoped>\n",
       "    .dataframe tbody tr th:only-of-type {\n",
       "        vertical-align: middle;\n",
       "    }\n",
       "\n",
       "    .dataframe tbody tr th {\n",
       "        vertical-align: top;\n",
       "    }\n",
       "\n",
       "    .dataframe thead th {\n",
       "        text-align: right;\n",
       "    }\n",
       "</style>\n",
       "<table border=\"1\" class=\"dataframe\">\n",
       "  <thead>\n",
       "    <tr style=\"text-align: right;\">\n",
       "      <th></th>\n",
       "      <th>year</th>\n",
       "      <th>price</th>\n",
       "      <th>mileage</th>\n",
       "      <th>tax</th>\n",
       "      <th>mpg</th>\n",
       "      <th>engineSize</th>\n",
       "    </tr>\n",
       "  </thead>\n",
       "  <tbody>\n",
       "    <tr>\n",
       "      <th>count</th>\n",
       "      <td>13119.000000</td>\n",
       "      <td>13119.000000</td>\n",
       "      <td>13119.000000</td>\n",
       "      <td>13119.000000</td>\n",
       "      <td>13119.000000</td>\n",
       "      <td>13119.000000</td>\n",
       "    </tr>\n",
       "    <tr>\n",
       "      <th>mean</th>\n",
       "      <td>2017.296288</td>\n",
       "      <td>24698.596920</td>\n",
       "      <td>21949.559037</td>\n",
       "      <td>129.972178</td>\n",
       "      <td>55.155843</td>\n",
       "      <td>2.071530</td>\n",
       "    </tr>\n",
       "    <tr>\n",
       "      <th>std</th>\n",
       "      <td>2.224709</td>\n",
       "      <td>11842.675542</td>\n",
       "      <td>21176.512267</td>\n",
       "      <td>65.260286</td>\n",
       "      <td>15.220082</td>\n",
       "      <td>0.572426</td>\n",
       "    </tr>\n",
       "    <tr>\n",
       "      <th>min</th>\n",
       "      <td>1970.000000</td>\n",
       "      <td>650.000000</td>\n",
       "      <td>1.000000</td>\n",
       "      <td>0.000000</td>\n",
       "      <td>1.100000</td>\n",
       "      <td>0.000000</td>\n",
       "    </tr>\n",
       "    <tr>\n",
       "      <th>25%</th>\n",
       "      <td>2016.000000</td>\n",
       "      <td>17450.000000</td>\n",
       "      <td>6097.500000</td>\n",
       "      <td>125.000000</td>\n",
       "      <td>45.600000</td>\n",
       "      <td>1.800000</td>\n",
       "    </tr>\n",
       "    <tr>\n",
       "      <th>50%</th>\n",
       "      <td>2018.000000</td>\n",
       "      <td>22480.000000</td>\n",
       "      <td>15189.000000</td>\n",
       "      <td>145.000000</td>\n",
       "      <td>56.500000</td>\n",
       "      <td>2.000000</td>\n",
       "    </tr>\n",
       "    <tr>\n",
       "      <th>75%</th>\n",
       "      <td>2019.000000</td>\n",
       "      <td>28980.000000</td>\n",
       "      <td>31779.500000</td>\n",
       "      <td>145.000000</td>\n",
       "      <td>64.200000</td>\n",
       "      <td>2.100000</td>\n",
       "    </tr>\n",
       "    <tr>\n",
       "      <th>max</th>\n",
       "      <td>2020.000000</td>\n",
       "      <td>159999.000000</td>\n",
       "      <td>259000.000000</td>\n",
       "      <td>580.000000</td>\n",
       "      <td>217.300000</td>\n",
       "      <td>6.200000</td>\n",
       "    </tr>\n",
       "  </tbody>\n",
       "</table>\n",
       "</div>"
      ],
      "text/plain": [
       "               year          price        mileage           tax           mpg  \\\n",
       "count  13119.000000   13119.000000   13119.000000  13119.000000  13119.000000   \n",
       "mean    2017.296288   24698.596920   21949.559037    129.972178     55.155843   \n",
       "std        2.224709   11842.675542   21176.512267     65.260286     15.220082   \n",
       "min     1970.000000     650.000000       1.000000      0.000000      1.100000   \n",
       "25%     2016.000000   17450.000000    6097.500000    125.000000     45.600000   \n",
       "50%     2018.000000   22480.000000   15189.000000    145.000000     56.500000   \n",
       "75%     2019.000000   28980.000000   31779.500000    145.000000     64.200000   \n",
       "max     2020.000000  159999.000000  259000.000000    580.000000    217.300000   \n",
       "\n",
       "         engineSize  \n",
       "count  13119.000000  \n",
       "mean       2.071530  \n",
       "std        0.572426  \n",
       "min        0.000000  \n",
       "25%        1.800000  \n",
       "50%        2.000000  \n",
       "75%        2.100000  \n",
       "max        6.200000  "
      ]
     },
     "execution_count": 28,
     "metadata": {},
     "output_type": "execute_result"
    }
   ],
   "source": [
    "data.describe()"
   ]
  },
  {
   "cell_type": "code",
   "execution_count": 29,
   "id": "7698a8b9-c76d-4d6f-a8f3-a75314315982",
   "metadata": {},
   "outputs": [
    {
     "data": {
      "text/plain": [
       "model           0\n",
       "year            0\n",
       "price           0\n",
       "transmission    0\n",
       "mileage         0\n",
       "fuelType        0\n",
       "tax             0\n",
       "mpg             0\n",
       "engineSize      0\n",
       "dtype: int64"
      ]
     },
     "execution_count": 29,
     "metadata": {},
     "output_type": "execute_result"
    }
   ],
   "source": [
    "data.isnull().sum() # null data control"
   ]
  },
  {
   "cell_type": "markdown",
   "id": "d183f64c-dfe3-48d1-8cd3-8ce6506351b4",
   "metadata": {},
   "source": [
    "# grafikten yola çıkarak, yüksek fiyatlı az arabalar aykırı olarak modeli etkileyeceğinden onları çıkarmaya karar verdim"
   ]
  },
  {
   "cell_type": "code",
   "execution_count": 30,
   "id": "9920d3d1-60af-49af-b997-837b9e6949e9",
   "metadata": {},
   "outputs": [
    {
     "data": {
      "text/plain": [
       "<seaborn.axisgrid.FacetGrid at 0x200a6ab2810>"
      ]
     },
     "execution_count": 30,
     "metadata": {},
     "output_type": "execute_result"
    },
    {
     "data": {
      "text/plain": [
       "<Figure size 700x1200 with 0 Axes>"
      ]
     },
     "metadata": {},
     "output_type": "display_data"
    },
    {
     "data": {
      "image/png": "[encoded data removed]",
      "text/plain": [
       "<Figure size 500x500 with 1 Axes>"
      ]
     },
     "metadata": {},
     "output_type": "display_data"
    }
   ],
   "source": [
    "plt.figure(figsize=(7,12))\n",
    "sbn.displot(data[\"price\"]) "
   ]
  },
  {
   "cell_type": "code",
   "execution_count": 31,
   "id": "0dfde260-a098-4661-9b3a-709717a9718f",
   "metadata": {},
   "outputs": [
    {
     "data": {
      "image/png": "[encoded data removed]",
      "text/plain": [
       "<Figure size 640x480 with 1 Axes>"
      ]
     },
     "metadata": {},
     "output_type": "display_data"
    }
   ],
   "source": [
    "# Örnek özelleştirmeler\n",
    "sbn.countplot(x=\"year\", data=data)\n",
    "plt.xticks(rotation=45)  # x eksenindeki etiketleri 45 derece döndürme\n",
    "plt.show()\n"
   ]
  },
  {
   "cell_type": "code",
   "execution_count": 32,
   "id": "818278f6",
   "metadata": {},
   "outputs": [
    {
     "data": {
      "text/plain": [
       "mileage      -0.537214\n",
       "mpg          -0.438445\n",
       "tax           0.268717\n",
       "engineSize    0.516126\n",
       "year          0.520712\n",
       "price         1.000000\n",
       "Name: price, dtype: float64"
      ]
     },
     "execution_count": 32,
     "metadata": {},
     "output_type": "execute_result"
    }
   ],
   "source": [
    "numericalData.corr()[\"price\"].sort_values()"
   ]
  },
  {
   "cell_type": "markdown",
   "id": "d4034eeb-9b3b-4276-a958-9cb04b514314",
   "metadata": {},
   "source": [
    "## mil arttıkça fiyat düşüyor"
   ]
  },
  {
   "cell_type": "code",
   "execution_count": 33,
   "id": "744acaeb-d2f2-45b0-a56e-007b25190940",
   "metadata": {},
   "outputs": [
    {
     "data": {
      "text/plain": [
       "<Axes: xlabel='mileage', ylabel='price'>"
      ]
     },
     "execution_count": 33,
     "metadata": {},
     "output_type": "execute_result"
    },
    {
     "data": {
      "image/png": "[encoded data removed]",
      "text/plain": [
       "<Figure size 640x480 with 1 Axes>"
      ]
     },
     "metadata": {},
     "output_type": "display_data"
    }
   ],
   "source": [
    "sbn.scatterplot(x=\"mileage\", y=\"price\", data=numericalData)"
   ]
  },
  {
   "cell_type": "code",
   "execution_count": 39,
   "id": "058d515c-0530-4dce-91e6-45976113b2fb",
   "metadata": {},
   "outputs": [
    {
     "data": {
      "text/html": [
       "<div>\n",
       "<style scoped>\n",
       "    .dataframe tbody tr th:only-of-type {\n",
       "        vertical-align: middle;\n",
       "    }\n",
       "\n",
       "    .dataframe tbody tr th {\n",
       "        vertical-align: top;\n",
       "    }\n",
       "\n",
       "    .dataframe thead th {\n",
       "        text-align: right;\n",
       "    }\n",
       "</style>\n",
       "<table border=\"1\" class=\"dataframe\">\n",
       "  <thead>\n",
       "    <tr style=\"text-align: right;\">\n",
       "      <th></th>\n",
       "      <th>model</th>\n",
       "      <th>year</th>\n",
       "      <th>price</th>\n",
       "      <th>transmission</th>\n",
       "      <th>mileage</th>\n",
       "      <th>fuelType</th>\n",
       "      <th>tax</th>\n",
       "      <th>mpg</th>\n",
       "      <th>engineSize</th>\n",
       "    </tr>\n",
       "  </thead>\n",
       "  <tbody>\n",
       "    <tr>\n",
       "      <th>6199</th>\n",
       "      <td>G Class</td>\n",
       "      <td>2020</td>\n",
       "      <td>159999</td>\n",
       "      <td>Semi-Auto</td>\n",
       "      <td>1350</td>\n",
       "      <td>Petrol</td>\n",
       "      <td>145</td>\n",
       "      <td>21.4</td>\n",
       "      <td>4.0</td>\n",
       "    </tr>\n",
       "    <tr>\n",
       "      <th>10044</th>\n",
       "      <td>G Class</td>\n",
       "      <td>2020</td>\n",
       "      <td>154998</td>\n",
       "      <td>Automatic</td>\n",
       "      <td>3000</td>\n",
       "      <td>Petrol</td>\n",
       "      <td>150</td>\n",
       "      <td>21.4</td>\n",
       "      <td>4.0</td>\n",
       "    </tr>\n",
       "    <tr>\n",
       "      <th>5</th>\n",
       "      <td>SL CLASS</td>\n",
       "      <td>2011</td>\n",
       "      <td>149948</td>\n",
       "      <td>Automatic</td>\n",
       "      <td>3000</td>\n",
       "      <td>Petrol</td>\n",
       "      <td>570</td>\n",
       "      <td>21.4</td>\n",
       "      <td>6.2</td>\n",
       "    </tr>\n",
       "    <tr>\n",
       "      <th>8737</th>\n",
       "      <td>A Class</td>\n",
       "      <td>2019</td>\n",
       "      <td>140319</td>\n",
       "      <td>Semi-Auto</td>\n",
       "      <td>785</td>\n",
       "      <td>Petrol</td>\n",
       "      <td>150</td>\n",
       "      <td>22.1</td>\n",
       "      <td>4.0</td>\n",
       "    </tr>\n",
       "    <tr>\n",
       "      <th>6386</th>\n",
       "      <td>G Class</td>\n",
       "      <td>2018</td>\n",
       "      <td>139995</td>\n",
       "      <td>Semi-Auto</td>\n",
       "      <td>13046</td>\n",
       "      <td>Petrol</td>\n",
       "      <td>145</td>\n",
       "      <td>21.4</td>\n",
       "      <td>4.0</td>\n",
       "    </tr>\n",
       "    <tr>\n",
       "      <th>8</th>\n",
       "      <td>G Class</td>\n",
       "      <td>2019</td>\n",
       "      <td>139948</td>\n",
       "      <td>Automatic</td>\n",
       "      <td>12000</td>\n",
       "      <td>Petrol</td>\n",
       "      <td>145</td>\n",
       "      <td>21.4</td>\n",
       "      <td>4.0</td>\n",
       "    </tr>\n",
       "    <tr>\n",
       "      <th>9133</th>\n",
       "      <td>A Class</td>\n",
       "      <td>2019</td>\n",
       "      <td>139559</td>\n",
       "      <td>Semi-Auto</td>\n",
       "      <td>1000</td>\n",
       "      <td>Petrol</td>\n",
       "      <td>145</td>\n",
       "      <td>22.1</td>\n",
       "      <td>4.0</td>\n",
       "    </tr>\n",
       "    <tr>\n",
       "      <th>8821</th>\n",
       "      <td>A Class</td>\n",
       "      <td>2020</td>\n",
       "      <td>138439</td>\n",
       "      <td>Semi-Auto</td>\n",
       "      <td>1000</td>\n",
       "      <td>Petrol</td>\n",
       "      <td>145</td>\n",
       "      <td>22.1</td>\n",
       "      <td>4.0</td>\n",
       "    </tr>\n",
       "    <tr>\n",
       "      <th>5902</th>\n",
       "      <td>G Class</td>\n",
       "      <td>2018</td>\n",
       "      <td>135771</td>\n",
       "      <td>Semi-Auto</td>\n",
       "      <td>19000</td>\n",
       "      <td>Petrol</td>\n",
       "      <td>145</td>\n",
       "      <td>21.4</td>\n",
       "      <td>4.0</td>\n",
       "    </tr>\n",
       "    <tr>\n",
       "      <th>7864</th>\n",
       "      <td>G Class</td>\n",
       "      <td>2018</td>\n",
       "      <td>135124</td>\n",
       "      <td>Semi-Auto</td>\n",
       "      <td>18234</td>\n",
       "      <td>Petrol</td>\n",
       "      <td>150</td>\n",
       "      <td>21.4</td>\n",
       "      <td>4.0</td>\n",
       "    </tr>\n",
       "    <tr>\n",
       "      <th>8673</th>\n",
       "      <td>A Class</td>\n",
       "      <td>2019</td>\n",
       "      <td>134219</td>\n",
       "      <td>Semi-Auto</td>\n",
       "      <td>1000</td>\n",
       "      <td>Petrol</td>\n",
       "      <td>145</td>\n",
       "      <td>24.8</td>\n",
       "      <td>4.0</td>\n",
       "    </tr>\n",
       "    <tr>\n",
       "      <th>6210</th>\n",
       "      <td>A Class</td>\n",
       "      <td>2019</td>\n",
       "      <td>129990</td>\n",
       "      <td>Automatic</td>\n",
       "      <td>1000</td>\n",
       "      <td>Petrol</td>\n",
       "      <td>145</td>\n",
       "      <td>24.8</td>\n",
       "      <td>4.0</td>\n",
       "    </tr>\n",
       "    <tr>\n",
       "      <th>4759</th>\n",
       "      <td>A Class</td>\n",
       "      <td>2019</td>\n",
       "      <td>126000</td>\n",
       "      <td>Automatic</td>\n",
       "      <td>250</td>\n",
       "      <td>Petrol</td>\n",
       "      <td>145</td>\n",
       "      <td>24.6</td>\n",
       "      <td>4.0</td>\n",
       "    </tr>\n",
       "    <tr>\n",
       "      <th>2647</th>\n",
       "      <td>A Class</td>\n",
       "      <td>2019</td>\n",
       "      <td>125796</td>\n",
       "      <td>Automatic</td>\n",
       "      <td>637</td>\n",
       "      <td>Petrol</td>\n",
       "      <td>145</td>\n",
       "      <td>24.8</td>\n",
       "      <td>4.0</td>\n",
       "    </tr>\n",
       "    <tr>\n",
       "      <th>6223</th>\n",
       "      <td>S Class</td>\n",
       "      <td>2019</td>\n",
       "      <td>124999</td>\n",
       "      <td>Automatic</td>\n",
       "      <td>1500</td>\n",
       "      <td>Petrol</td>\n",
       "      <td>145</td>\n",
       "      <td>31.7</td>\n",
       "      <td>4.0</td>\n",
       "    </tr>\n",
       "    <tr>\n",
       "      <th>4094</th>\n",
       "      <td>A Class</td>\n",
       "      <td>2019</td>\n",
       "      <td>124366</td>\n",
       "      <td>Semi-Auto</td>\n",
       "      <td>880</td>\n",
       "      <td>Petrol</td>\n",
       "      <td>145</td>\n",
       "      <td>24.8</td>\n",
       "      <td>4.0</td>\n",
       "    </tr>\n",
       "    <tr>\n",
       "      <th>2629</th>\n",
       "      <td>A Class</td>\n",
       "      <td>2019</td>\n",
       "      <td>123846</td>\n",
       "      <td>Semi-Auto</td>\n",
       "      <td>2951</td>\n",
       "      <td>Petrol</td>\n",
       "      <td>145</td>\n",
       "      <td>22.1</td>\n",
       "      <td>4.0</td>\n",
       "    </tr>\n",
       "    <tr>\n",
       "      <th>7134</th>\n",
       "      <td>A Class</td>\n",
       "      <td>2019</td>\n",
       "      <td>115359</td>\n",
       "      <td>Semi-Auto</td>\n",
       "      <td>1000</td>\n",
       "      <td>Petrol</td>\n",
       "      <td>145</td>\n",
       "      <td>30.1</td>\n",
       "      <td>4.0</td>\n",
       "    </tr>\n",
       "    <tr>\n",
       "      <th>9159</th>\n",
       "      <td>A Class</td>\n",
       "      <td>2019</td>\n",
       "      <td>114199</td>\n",
       "      <td>Semi-Auto</td>\n",
       "      <td>891</td>\n",
       "      <td>Petrol</td>\n",
       "      <td>145</td>\n",
       "      <td>22.6</td>\n",
       "      <td>4.0</td>\n",
       "    </tr>\n",
       "    <tr>\n",
       "      <th>1980</th>\n",
       "      <td>S Class</td>\n",
       "      <td>2019</td>\n",
       "      <td>109995</td>\n",
       "      <td>Semi-Auto</td>\n",
       "      <td>4688</td>\n",
       "      <td>Petrol</td>\n",
       "      <td>150</td>\n",
       "      <td>31.7</td>\n",
       "      <td>4.0</td>\n",
       "    </tr>\n",
       "  </tbody>\n",
       "</table>\n",
       "</div>"
      ],
      "text/plain": [
       "           model  year   price transmission  mileage fuelType  tax   mpg  \\\n",
       "6199     G Class  2020  159999    Semi-Auto     1350   Petrol  145  21.4   \n",
       "10044    G Class  2020  154998    Automatic     3000   Petrol  150  21.4   \n",
       "5       SL CLASS  2011  149948    Automatic     3000   Petrol  570  21.4   \n",
       "8737     A Class  2019  140319    Semi-Auto      785   Petrol  150  22.1   \n",
       "6386     G Class  2018  139995    Semi-Auto    13046   Petrol  145  21.4   \n",
       "8        G Class  2019  139948    Automatic    12000   Petrol  145  21.4   \n",
       "9133     A Class  2019  139559    Semi-Auto     1000   Petrol  145  22.1   \n",
       "8821     A Class  2020  138439    Semi-Auto     1000   Petrol  145  22.1   \n",
       "5902     G Class  2018  135771    Semi-Auto    19000   Petrol  145  21.4   \n",
       "7864     G Class  2018  135124    Semi-Auto    18234   Petrol  150  21.4   \n",
       "8673     A Class  2019  134219    Semi-Auto     1000   Petrol  145  24.8   \n",
       "6210     A Class  2019  129990    Automatic     1000   Petrol  145  24.8   \n",
       "4759     A Class  2019  126000    Automatic      250   Petrol  145  24.6   \n",
       "2647     A Class  2019  125796    Automatic      637   Petrol  145  24.8   \n",
       "6223     S Class  2019  124999    Automatic     1500   Petrol  145  31.7   \n",
       "4094     A Class  2019  124366    Semi-Auto      880   Petrol  145  24.8   \n",
       "2629     A Class  2019  123846    Semi-Auto     2951   Petrol  145  22.1   \n",
       "7134     A Class  2019  115359    Semi-Auto     1000   Petrol  145  30.1   \n",
       "9159     A Class  2019  114199    Semi-Auto      891   Petrol  145  22.6   \n",
       "1980     S Class  2019  109995    Semi-Auto     4688   Petrol  150  31.7   \n",
       "\n",
       "       engineSize  \n",
       "6199          4.0  \n",
       "10044         4.0  \n",
       "5             6.2  \n",
       "8737          4.0  \n",
       "6386          4.0  \n",
       "8             4.0  \n",
       "9133          4.0  \n",
       "8821          4.0  \n",
       "5902          4.0  \n",
       "7864          4.0  \n",
       "8673          4.0  \n",
       "6210          4.0  \n",
       "4759          4.0  \n",
       "2647          4.0  \n",
       "6223          4.0  \n",
       "4094          4.0  \n",
       "2629          4.0  \n",
       "7134          4.0  \n",
       "9159          4.0  \n",
       "1980          4.0  "
      ]
     },
     "execution_count": 39,
     "metadata": {},
     "output_type": "execute_result"
    }
   ],
   "source": [
    "data.sort_values(\"price\",ascending=False).head(20) # max price come first"
   ]
  },
  {
   "cell_type": "code",
   "execution_count": 46,
   "id": "fed1cef9-7002-46ad-ad70-b663607a78e1",
   "metadata": {},
   "outputs": [
    {
     "data": {
      "text/plain": [
       "131.19"
      ]
     },
     "execution_count": 46,
     "metadata": {},
     "output_type": "execute_result"
    }
   ],
   "source": [
    "len(data) * 0.01 # çıkarmaya karar verdiğim en yüksek fiyatlı veri sayısı"
   ]
  },
  {
   "cell_type": "code",
   "execution_count": 65,
   "id": "59d70d55-de2c-4551-824d-6f4f0c9e7584",
   "metadata": {},
   "outputs": [],
   "source": [
    "clearData = numericalData.sort_values(\"price\",ascending=False).iloc[131:] "
   ]
  },
  {
   "cell_type": "code",
   "execution_count": 66,
   "id": "2ff069de-22fb-4bbc-a0df-42363cb2b268",
   "metadata": {},
   "outputs": [
    {
     "data": {
      "text/html": [
       "<div>\n",
       "<style scoped>\n",
       "    .dataframe tbody tr th:only-of-type {\n",
       "        vertical-align: middle;\n",
       "    }\n",
       "\n",
       "    .dataframe tbody tr th {\n",
       "        vertical-align: top;\n",
       "    }\n",
       "\n",
       "    .dataframe thead th {\n",
       "        text-align: right;\n",
       "    }\n",
       "</style>\n",
       "<table border=\"1\" class=\"dataframe\">\n",
       "  <thead>\n",
       "    <tr style=\"text-align: right;\">\n",
       "      <th></th>\n",
       "      <th>year</th>\n",
       "      <th>price</th>\n",
       "      <th>mileage</th>\n",
       "      <th>tax</th>\n",
       "      <th>mpg</th>\n",
       "      <th>engineSize</th>\n",
       "    </tr>\n",
       "  </thead>\n",
       "  <tbody>\n",
       "    <tr>\n",
       "      <th>count</th>\n",
       "      <td>12988.000000</td>\n",
       "      <td>12988.000000</td>\n",
       "      <td>12988.000000</td>\n",
       "      <td>12988.000000</td>\n",
       "      <td>12988.000000</td>\n",
       "      <td>12988.000000</td>\n",
       "    </tr>\n",
       "    <tr>\n",
       "      <th>mean</th>\n",
       "      <td>2017.281876</td>\n",
       "      <td>24074.926933</td>\n",
       "      <td>22132.741146</td>\n",
       "      <td>129.689714</td>\n",
       "      <td>55.437142</td>\n",
       "      <td>2.050901</td>\n",
       "    </tr>\n",
       "    <tr>\n",
       "      <th>std</th>\n",
       "      <td>2.228515</td>\n",
       "      <td>9866.224575</td>\n",
       "      <td>21196.776401</td>\n",
       "      <td>65.183076</td>\n",
       "      <td>15.025999</td>\n",
       "      <td>0.532596</td>\n",
       "    </tr>\n",
       "    <tr>\n",
       "      <th>min</th>\n",
       "      <td>1970.000000</td>\n",
       "      <td>650.000000</td>\n",
       "      <td>1.000000</td>\n",
       "      <td>0.000000</td>\n",
       "      <td>1.100000</td>\n",
       "      <td>0.000000</td>\n",
       "    </tr>\n",
       "    <tr>\n",
       "      <th>25%</th>\n",
       "      <td>2016.000000</td>\n",
       "      <td>17357.500000</td>\n",
       "      <td>6322.000000</td>\n",
       "      <td>125.000000</td>\n",
       "      <td>45.600000</td>\n",
       "      <td>1.675000</td>\n",
       "    </tr>\n",
       "    <tr>\n",
       "      <th>50%</th>\n",
       "      <td>2018.000000</td>\n",
       "      <td>22299.000000</td>\n",
       "      <td>15369.500000</td>\n",
       "      <td>145.000000</td>\n",
       "      <td>56.500000</td>\n",
       "      <td>2.000000</td>\n",
       "    </tr>\n",
       "    <tr>\n",
       "      <th>75%</th>\n",
       "      <td>2019.000000</td>\n",
       "      <td>28706.000000</td>\n",
       "      <td>31982.250000</td>\n",
       "      <td>145.000000</td>\n",
       "      <td>64.200000</td>\n",
       "      <td>2.100000</td>\n",
       "    </tr>\n",
       "    <tr>\n",
       "      <th>max</th>\n",
       "      <td>2020.000000</td>\n",
       "      <td>65990.000000</td>\n",
       "      <td>259000.000000</td>\n",
       "      <td>580.000000</td>\n",
       "      <td>217.300000</td>\n",
       "      <td>6.200000</td>\n",
       "    </tr>\n",
       "  </tbody>\n",
       "</table>\n",
       "</div>"
      ],
      "text/plain": [
       "               year         price        mileage           tax           mpg  \\\n",
       "count  12988.000000  12988.000000   12988.000000  12988.000000  12988.000000   \n",
       "mean    2017.281876  24074.926933   22132.741146    129.689714     55.437142   \n",
       "std        2.228515   9866.224575   21196.776401     65.183076     15.025999   \n",
       "min     1970.000000    650.000000       1.000000      0.000000      1.100000   \n",
       "25%     2016.000000  17357.500000    6322.000000    125.000000     45.600000   \n",
       "50%     2018.000000  22299.000000   15369.500000    145.000000     56.500000   \n",
       "75%     2019.000000  28706.000000   31982.250000    145.000000     64.200000   \n",
       "max     2020.000000  65990.000000  259000.000000    580.000000    217.300000   \n",
       "\n",
       "         engineSize  \n",
       "count  12988.000000  \n",
       "mean       2.050901  \n",
       "std        0.532596  \n",
       "min        0.000000  \n",
       "25%        1.675000  \n",
       "50%        2.000000  \n",
       "75%        2.100000  \n",
       "max        6.200000  "
      ]
     },
     "execution_count": 66,
     "metadata": {},
     "output_type": "execute_result"
    }
   ],
   "source": [
    "clearData.describe()"
   ]
  },
  {
   "cell_type": "code",
   "execution_count": 67,
   "id": "4362c46d-8d7e-4c79-8603-94c46ea573af",
   "metadata": {},
   "outputs": [
    {
     "data": {
      "text/plain": [
       "<seaborn.axisgrid.FacetGrid at 0x200a707bf90>"
      ]
     },
     "execution_count": 67,
     "metadata": {},
     "output_type": "execute_result"
    },
    {
     "data": {
      "text/plain": [
       "<Figure size 700x500 with 0 Axes>"
      ]
     },
     "metadata": {},
     "output_type": "display_data"
    },
    {
     "data": {
      "image/png": "[encoded data removed]",
      "text/plain": [
       "<Figure size 500x500 with 1 Axes>"
      ]
     },
     "metadata": {},
     "output_type": "display_data"
    }
   ],
   "source": [
    "plt.figure(figsize=(7,5))\n",
    "sbn.displot(clearData[\"price\"])"
   ]
  },
  {
   "cell_type": "code",
   "execution_count": 68,
   "id": "689f7f08-016b-4d26-a64f-a97951008eba",
   "metadata": {},
   "outputs": [
    {
     "data": {
      "text/plain": [
       "year\n",
       "1970    24999.000000\n",
       "1997     9995.000000\n",
       "1998     8605.000000\n",
       "1999     5995.000000\n",
       "2000     5743.333333\n",
       "2001     4957.900000\n",
       "2002     5820.444444\n",
       "2003     4878.000000\n",
       "2004     4727.615385\n",
       "2005     4426.111111\n",
       "2006     4036.875000\n",
       "2007     5136.045455\n",
       "2008     6967.437500\n",
       "2009     6166.764706\n",
       "2010     8308.473684\n",
       "2011    12624.894737\n",
       "2012    10845.140351\n",
       "2013    11939.842466\n",
       "2014    14042.936864\n",
       "2015    16731.780020\n",
       "2016    19307.892948\n",
       "2017    21514.307854\n",
       "2018    25720.162918\n",
       "2019    31290.020865\n",
       "2020    35433.282337\n",
       "Name: price, dtype: float64"
      ]
     },
     "execution_count": 68,
     "metadata": {},
     "output_type": "execute_result"
    }
   ],
   "source": [
    "numericalData.groupby(\"year\").mean()[\"price\"] # yıla göre ortalama fiyat"
   ]
  },
  {
   "cell_type": "code",
   "execution_count": 70,
   "id": "6ec1aef6-6711-488e-a032-ee7b01de1d68",
   "metadata": {},
   "outputs": [
    {
     "data": {
      "text/plain": [
       "year\n",
       "1970    24999.000000\n",
       "1997     9995.000000\n",
       "1998     8605.000000\n",
       "1999     5995.000000\n",
       "2000     5743.333333\n",
       "2001     4957.900000\n",
       "2002     5820.444444\n",
       "2003     4878.000000\n",
       "2004     4727.615385\n",
       "2005     4426.111111\n",
       "2006     4036.875000\n",
       "2007     5136.045455\n",
       "2008     6967.437500\n",
       "2009     6166.764706\n",
       "2010     8308.473684\n",
       "2011     8913.459459\n",
       "2012    10845.140351\n",
       "2013    11939.842466\n",
       "2014    14042.936864\n",
       "2015    16647.822222\n",
       "2016    19223.558943\n",
       "2017    21356.280421\n",
       "2018    24800.844506\n",
       "2019    30289.524832\n",
       "2020    34234.794872\n",
       "Name: price, dtype: float64"
      ]
     },
     "execution_count": 70,
     "metadata": {},
     "output_type": "execute_result"
    }
   ],
   "source": [
    "clearData.groupby(\"year\").mean()[\"price\"]"
   ]
  },
  {
   "cell_type": "code",
   "execution_count": 77,
   "id": "f5b83d55-38e2-4248-90fd-ed4993a499b3",
   "metadata": {},
   "outputs": [],
   "source": [
    "clearData = clearData[clearData.year != 1970] #1970 lerde aykırı değer olduğundan modele yansıtmamak için o seneyi de çıkarttım"
   ]
  },
  {
   "cell_type": "code",
   "execution_count": 76,
   "id": "f36d5bb6-1ac4-495f-86c2-d7c37c9cde0f",
   "metadata": {},
   "outputs": [
    {
     "data": {
      "text/plain": [
       "year\n",
       "1997     9995.000000\n",
       "1998     8605.000000\n",
       "1999     5995.000000\n",
       "2000     5743.333333\n",
       "2001     4957.900000\n",
       "2002     5820.444444\n",
       "2003     4878.000000\n",
       "2004     4727.615385\n",
       "2005     4426.111111\n",
       "2006     4036.875000\n",
       "2007     5136.045455\n",
       "2008     6967.437500\n",
       "2009     6166.764706\n",
       "2010     8308.473684\n",
       "2011     8913.459459\n",
       "2012    10845.140351\n",
       "2013    11939.842466\n",
       "2014    14042.936864\n",
       "2015    16647.822222\n",
       "2016    19223.558943\n",
       "2017    21356.280421\n",
       "2018    24800.844506\n",
       "2019    30289.524832\n",
       "2020    34234.794872\n",
       "Name: price, dtype: float64"
      ]
     },
     "execution_count": 76,
     "metadata": {},
     "output_type": "execute_result"
    }
   ],
   "source": [
    "clearData.groupby(\"year\").mean()[\"price\"]"
   ]
  },
  {
   "cell_type": "markdown",
   "id": "e7622efa-6ce9-4518-b77d-19fe19f156d5",
   "metadata": {},
   "source": [
    "## Regression "
   ]
  },
  {
   "cell_type": "code",
   "execution_count": 124,
   "id": "2311eaee-91a9-4beb-8320-91df8b38f8fa",
   "metadata": {},
   "outputs": [],
   "source": [
    "y = clearData[\"price\"].values\n",
    "\n",
    "x = clearData.drop(\"price\", axis = 1).values"
   ]
  },
  {
   "cell_type": "code",
   "execution_count": 125,
   "id": "ec08244e-0200-48eb-85b3-dfdbc0da1e7f",
   "metadata": {},
   "outputs": [
    {
     "data": {
      "text/plain": [
       "array([[2.01900e+03, 5.07600e+03, 1.50000e+02, 3.04000e+01, 3.00000e+00],\n",
       "       [2.02000e+03, 9.99000e+02, 1.45000e+02, 2.80000e+01, 4.00000e+00],\n",
       "       [2.02000e+03, 3.99900e+03, 1.45000e+02, 2.80000e+01, 4.00000e+00],\n",
       "       ...,\n",
       "       [2.00000e+03, 8.70000e+04, 2.65000e+02, 2.72000e+01, 3.20000e+00],\n",
       "       [2.01000e+03, 1.16126e+05, 1.45000e+02, 5.43000e+01, 2.00000e+00],\n",
       "       [2.00300e+03, 1.09090e+05, 2.35000e+02, 4.00000e+01, 1.40000e+00]])"
      ]
     },
     "execution_count": 125,
     "metadata": {},
     "output_type": "execute_result"
    }
   ],
   "source": [
    "x"
   ]
  },
  {
   "cell_type": "code",
   "execution_count": 126,
   "id": "543c9fee-0f21-4aba-817a-cfd33d91da71",
   "metadata": {},
   "outputs": [
    {
     "data": {
      "text/plain": [
       "array([65990, 65990, 65980, ...,  1490,  1350,   650], dtype=int64)"
      ]
     },
     "execution_count": 126,
     "metadata": {},
     "output_type": "execute_result"
    }
   ],
   "source": [
    "y"
   ]
  },
  {
   "cell_type": "code",
   "execution_count": 127,
   "id": "c4d1dbbc-d23b-4085-8cd8-a044c40fbd03",
   "metadata": {},
   "outputs": [],
   "source": [
    "from sklearn.model_selection import train_test_split # x ve y dizilerini eğitim ve test için split etmek"
   ]
  },
  {
   "cell_type": "code",
   "execution_count": 128,
   "id": "c5897a9b-1304-4324-8ca0-08c2f3f6242d",
   "metadata": {},
   "outputs": [],
   "source": [
    "x_train, x_test, y_train, y_test = train_test_split(x,y,test_size=0.3,random_state=10)"
   ]
  },
  {
   "cell_type": "code",
   "execution_count": 129,
   "id": "5be052e3-da94-49ad-9798-57e7b5a3d739",
   "metadata": {},
   "outputs": [
    {
     "data": {
      "text/plain": [
       "9090"
      ]
     },
     "execution_count": 129,
     "metadata": {},
     "output_type": "execute_result"
    }
   ],
   "source": [
    "len(x_train)"
   ]
  },
  {
   "cell_type": "code",
   "execution_count": 130,
   "id": "5d62755e-ffd5-4247-9991-1d4c92a77f1f",
   "metadata": {},
   "outputs": [
    {
     "data": {
      "text/plain": [
       "3897"
      ]
     },
     "execution_count": 130,
     "metadata": {},
     "output_type": "execute_result"
    }
   ],
   "source": [
    "len(x_test)"
   ]
  },
  {
   "cell_type": "code",
   "execution_count": 131,
   "id": "847306da-1f60-4735-a976-dff0aa9df249",
   "metadata": {},
   "outputs": [],
   "source": [
    "from sklearn.preprocessing import MinMaxScaler"
   ]
  },
  {
   "cell_type": "code",
   "execution_count": 132,
   "id": "20bf5db1-c692-4287-883c-66be48df5596",
   "metadata": {},
   "outputs": [],
   "source": [
    "scaler = MinMaxScaler()"
   ]
  },
  {
   "cell_type": "code",
   "execution_count": 133,
   "id": "706a1ce1-1a6e-48be-bb8f-69d51162dbc8",
   "metadata": {},
   "outputs": [],
   "source": [
    "x_train = scaler.fit_transform(x_train)"
   ]
  },
  {
   "cell_type": "code",
   "execution_count": 134,
   "id": "5b1730e6-5cbb-43ca-95f8-9f642e2af2fc",
   "metadata": {},
   "outputs": [],
   "source": [
    "x_test = scaler.transform(x_test)"
   ]
  },
  {
   "cell_type": "code",
   "execution_count": 135,
   "id": "c707ee0e-c206-42b7-83d2-049d026361ee",
   "metadata": {},
   "outputs": [],
   "source": [
    "from tensorflow.keras.models import Sequential # model oluşturmak \n",
    "from tensorflow.keras.layers import Dense # katman oluşturmak"
   ]
  },
  {
   "cell_type": "code",
   "execution_count": 136,
   "id": "2c15dd6b-0f82-4b86-89f4-1553feeb1438",
   "metadata": {},
   "outputs": [
    {
     "data": {
      "text/plain": [
       "(9090, 5)"
      ]
     },
     "execution_count": 136,
     "metadata": {},
     "output_type": "execute_result"
    }
   ],
   "source": [
    "x_train.shape"
   ]
  },
  {
   "cell_type": "code",
   "execution_count": 137,
   "id": "0eda8595-0bd5-4e27-a919-bd5d896514a9",
   "metadata": {},
   "outputs": [],
   "source": [
    "model = Sequential()\n",
    "\n",
    "model.add(Dense(12,activation=\"relu\",))\n",
    "model.add(Dense(12,activation=\"relu\",))\n",
    "model.add(Dense(12,activation=\"relu\",))\n",
    "model.add(Dense(12,activation=\"relu\",))\n",
    "\n",
    "model.add(Dense(1))\n",
    "\n",
    "model.compile(optimizer=\"adam\",loss=\"mse\")\n"
   ]
  },
  {
   "cell_type": "code",
   "execution_count": 138,
   "id": "ea3c1a66-ff4f-422b-ac00-67ace8de318e",
   "metadata": {},
   "outputs": [
    {
     "name": "stdout",
     "output_type": "stream",
     "text": [
      "Epoch 1/300\n",
      "37/37 [==============================] - 1s 7ms/step - loss: 672148032.0000 - val_loss: 688110016.0000\n",
      "Epoch 2/300\n",
      "37/37 [==============================] - 0s 3ms/step - loss: 672139328.0000 - val_loss: 688096448.0000\n",
      "Epoch 3/300\n",
      "37/37 [==============================] - 0s 3ms/step - loss: 672114048.0000 - val_loss: 688050432.0000\n",
      "Epoch 4/300\n",
      "37/37 [==============================] - 0s 3ms/step - loss: 672025920.0000 - val_loss: 687892736.0000\n",
      "Epoch 5/300\n",
      "37/37 [==============================] - 0s 3ms/step - loss: 671750336.0000 - val_loss: 687435072.0000\n",
      "Epoch 6/300\n",
      "37/37 [==============================] - 0s 3ms/step - loss: 671023104.0000 - val_loss: 686313664.0000\n",
      "Epoch 7/300\n",
      "37/37 [==============================] - 0s 3ms/step - loss: 669375040.0000 - val_loss: 683921792.0000\n",
      "Epoch 8/300\n",
      "37/37 [==============================] - 0s 3ms/step - loss: 666078272.0000 - val_loss: 679354688.0000\n",
      "Epoch 9/300\n",
      "37/37 [==============================] - 0s 3ms/step - loss: 660090688.0000 - val_loss: 671407040.0000\n",
      "Epoch 10/300\n",
      "37/37 [==============================] - 0s 3ms/step - loss: 650049856.0000 - val_loss: 658530432.0000\n",
      "Epoch 11/300\n",
      "37/37 [==============================] - 0s 3ms/step - loss: 634321280.0000 - val_loss: 638929344.0000\n",
      "Epoch 12/300\n",
      "37/37 [==============================] - 0s 3ms/step - loss: 611070400.0000 - val_loss: 610795584.0000\n",
      "Epoch 13/300\n",
      "37/37 [==============================] - 0s 3ms/step - loss: 578657792.0000 - val_loss: 572448000.0000\n",
      "Epoch 14/300\n",
      "37/37 [==============================] - 0s 3ms/step - loss: 535486080.0000 - val_loss: 522166912.0000\n",
      "Epoch 15/300\n",
      "37/37 [==============================] - 0s 3ms/step - loss: 479692832.0000 - val_loss: 458970304.0000\n",
      "Epoch 16/300\n",
      "37/37 [==============================] - 0s 3ms/step - loss: 412391200.0000 - val_loss: 385605952.0000\n",
      "Epoch 17/300\n",
      "37/37 [==============================] - 0s 3ms/step - loss: 337742528.0000 - val_loss: 308092928.0000\n",
      "Epoch 18/300\n",
      "37/37 [==============================] - 0s 3ms/step - loss: 262794720.0000 - val_loss: 234100928.0000\n",
      "Epoch 19/300\n",
      "37/37 [==============================] - 0s 3ms/step - loss: 195996704.0000 - val_loss: 173200704.0000\n",
      "Epoch 20/300\n",
      "37/37 [==============================] - 0s 3ms/step - loss: 145480528.0000 - val_loss: 130504728.0000\n",
      "Epoch 21/300\n",
      "37/37 [==============================] - 0s 3ms/step - loss: 113633480.0000 - val_loss: 106896904.0000\n",
      "Epoch 22/300\n",
      "37/37 [==============================] - 0s 3ms/step - loss: 97931712.0000 - val_loss: 96157584.0000\n",
      "Epoch 23/300\n",
      "37/37 [==============================] - 0s 3ms/step - loss: 91628416.0000 - val_loss: 92083744.0000\n",
      "Epoch 24/300\n",
      "37/37 [==============================] - 0s 4ms/step - loss: 89467624.0000 - val_loss: 90542072.0000\n",
      "Epoch 25/300\n",
      "37/37 [==============================] - 0s 3ms/step - loss: 88603696.0000 - val_loss: 89773408.0000\n",
      "Epoch 26/300\n",
      "37/37 [==============================] - 0s 3ms/step - loss: 88058336.0000 - val_loss: 89283272.0000\n",
      "Epoch 27/300\n",
      "37/37 [==============================] - 0s 3ms/step - loss: 87623392.0000 - val_loss: 88810888.0000\n",
      "Epoch 28/300\n",
      "37/37 [==============================] - 0s 3ms/step - loss: 87223056.0000 - val_loss: 88417168.0000\n",
      "Epoch 29/300\n",
      "37/37 [==============================] - 0s 3ms/step - loss: 86837280.0000 - val_loss: 88025512.0000\n",
      "Epoch 30/300\n",
      "37/37 [==============================] - 0s 3ms/step - loss: 86466440.0000 - val_loss: 87650520.0000\n",
      "Epoch 31/300\n",
      "37/37 [==============================] - 0s 3ms/step - loss: 86099696.0000 - val_loss: 87311960.0000\n",
      "Epoch 32/300\n",
      "37/37 [==============================] - 0s 3ms/step - loss: 85739072.0000 - val_loss: 86951328.0000\n",
      "Epoch 33/300\n",
      "37/37 [==============================] - 0s 3ms/step - loss: 85388720.0000 - val_loss: 86585032.0000\n",
      "Epoch 34/300\n",
      "37/37 [==============================] - 0s 3ms/step - loss: 85042048.0000 - val_loss: 86277000.0000\n",
      "Epoch 35/300\n",
      "37/37 [==============================] - 0s 3ms/step - loss: 84706920.0000 - val_loss: 85908848.0000\n",
      "Epoch 36/300\n",
      "37/37 [==============================] - 0s 3ms/step - loss: 84353976.0000 - val_loss: 85564416.0000\n",
      "Epoch 37/300\n",
      "37/37 [==============================] - 0s 3ms/step - loss: 84019248.0000 - val_loss: 85242384.0000\n",
      "Epoch 38/300\n",
      "37/37 [==============================] - 0s 3ms/step - loss: 83682504.0000 - val_loss: 84900080.0000\n",
      "Epoch 39/300\n",
      "37/37 [==============================] - 0s 3ms/step - loss: 83349504.0000 - val_loss: 84570424.0000\n",
      "Epoch 40/300\n",
      "37/37 [==============================] - 0s 4ms/step - loss: 83020512.0000 - val_loss: 84260904.0000\n",
      "Epoch 41/300\n",
      "37/37 [==============================] - 0s 3ms/step - loss: 82692904.0000 - val_loss: 83935904.0000\n",
      "Epoch 42/300\n",
      "37/37 [==============================] - 0s 3ms/step - loss: 82368784.0000 - val_loss: 83595096.0000\n",
      "Epoch 43/300\n",
      "37/37 [==============================] - 0s 3ms/step - loss: 82042976.0000 - val_loss: 83276032.0000\n",
      "Epoch 44/300\n",
      "37/37 [==============================] - 0s 3ms/step - loss: 81713568.0000 - val_loss: 82963712.0000\n",
      "Epoch 45/300\n",
      "37/37 [==============================] - 0s 3ms/step - loss: 81386224.0000 - val_loss: 82630160.0000\n",
      "Epoch 46/300\n",
      "37/37 [==============================] - 0s 3ms/step - loss: 81064480.0000 - val_loss: 82310344.0000\n",
      "Epoch 47/300\n",
      "37/37 [==============================] - 0s 3ms/step - loss: 80736504.0000 - val_loss: 82001832.0000\n",
      "Epoch 48/300\n",
      "37/37 [==============================] - 0s 3ms/step - loss: 80415016.0000 - val_loss: 81688992.0000\n",
      "Epoch 49/300\n",
      "37/37 [==============================] - 0s 3ms/step - loss: 80089696.0000 - val_loss: 81358696.0000\n",
      "Epoch 50/300\n",
      "37/37 [==============================] - 0s 3ms/step - loss: 79758736.0000 - val_loss: 81016176.0000\n",
      "Epoch 51/300\n",
      "37/37 [==============================] - 0s 3ms/step - loss: 79439976.0000 - val_loss: 80714752.0000\n",
      "Epoch 52/300\n",
      "37/37 [==============================] - 0s 3ms/step - loss: 79113920.0000 - val_loss: 80366664.0000\n",
      "Epoch 53/300\n",
      "37/37 [==============================] - 0s 3ms/step - loss: 78783328.0000 - val_loss: 80058432.0000\n",
      "Epoch 54/300\n",
      "37/37 [==============================] - 0s 3ms/step - loss: 78460376.0000 - val_loss: 79756032.0000\n",
      "Epoch 55/300\n",
      "37/37 [==============================] - 0s 3ms/step - loss: 78130560.0000 - val_loss: 79420072.0000\n",
      "Epoch 56/300\n",
      "37/37 [==============================] - 0s 3ms/step - loss: 77810488.0000 - val_loss: 79095920.0000\n",
      "Epoch 57/300\n",
      "37/37 [==============================] - 0s 3ms/step - loss: 77479680.0000 - val_loss: 78771384.0000\n",
      "Epoch 58/300\n",
      "37/37 [==============================] - 0s 3ms/step - loss: 77147328.0000 - val_loss: 78440168.0000\n",
      "Epoch 59/300\n",
      "37/37 [==============================] - 0s 3ms/step - loss: 76819728.0000 - val_loss: 78132352.0000\n",
      "Epoch 60/300\n",
      "37/37 [==============================] - 0s 3ms/step - loss: 76489208.0000 - val_loss: 77791344.0000\n",
      "Epoch 61/300\n",
      "37/37 [==============================] - 0s 4ms/step - loss: 76157416.0000 - val_loss: 77476584.0000\n",
      "Epoch 62/300\n",
      "37/37 [==============================] - 0s 3ms/step - loss: 75823864.0000 - val_loss: 77154856.0000\n",
      "Epoch 63/300\n",
      "37/37 [==============================] - 0s 3ms/step - loss: 75484480.0000 - val_loss: 76795576.0000\n",
      "Epoch 64/300\n",
      "37/37 [==============================] - 0s 3ms/step - loss: 75156784.0000 - val_loss: 76467304.0000\n",
      "Epoch 65/300\n",
      "37/37 [==============================] - 0s 3ms/step - loss: 74815648.0000 - val_loss: 76145632.0000\n",
      "Epoch 66/300\n",
      "37/37 [==============================] - 0s 3ms/step - loss: 74481304.0000 - val_loss: 75823744.0000\n",
      "Epoch 67/300\n",
      "37/37 [==============================] - 0s 3ms/step - loss: 74134736.0000 - val_loss: 75457480.0000\n",
      "Epoch 68/300\n",
      "37/37 [==============================] - 0s 3ms/step - loss: 73799064.0000 - val_loss: 75117208.0000\n",
      "Epoch 69/300\n",
      "37/37 [==============================] - 0s 3ms/step - loss: 73449376.0000 - val_loss: 74799888.0000\n",
      "Epoch 70/300\n",
      "37/37 [==============================] - 0s 3ms/step - loss: 73105224.0000 - val_loss: 74440904.0000\n",
      "Epoch 71/300\n",
      "37/37 [==============================] - 0s 3ms/step - loss: 72773368.0000 - val_loss: 74105856.0000\n",
      "Epoch 72/300\n",
      "37/37 [==============================] - 0s 3ms/step - loss: 72413456.0000 - val_loss: 73739424.0000\n",
      "Epoch 73/300\n",
      "37/37 [==============================] - 0s 3ms/step - loss: 72062328.0000 - val_loss: 73394960.0000\n",
      "Epoch 74/300\n",
      "37/37 [==============================] - 0s 3ms/step - loss: 71715424.0000 - val_loss: 73072848.0000\n",
      "Epoch 75/300\n",
      "37/37 [==============================] - 0s 3ms/step - loss: 71354880.0000 - val_loss: 72714232.0000\n",
      "Epoch 76/300\n",
      "37/37 [==============================] - 0s 3ms/step - loss: 71004408.0000 - val_loss: 72376104.0000\n",
      "Epoch 77/300\n",
      "37/37 [==============================] - 0s 3ms/step - loss: 70630128.0000 - val_loss: 72001136.0000\n",
      "Epoch 78/300\n",
      "37/37 [==============================] - 0s 3ms/step - loss: 70280656.0000 - val_loss: 71622880.0000\n",
      "Epoch 79/300\n",
      "37/37 [==============================] - 0s 3ms/step - loss: 69909856.0000 - val_loss: 71265984.0000\n",
      "Epoch 80/300\n",
      "37/37 [==============================] - 0s 3ms/step - loss: 69544888.0000 - val_loss: 70907016.0000\n",
      "Epoch 81/300\n",
      "37/37 [==============================] - 0s 3ms/step - loss: 69170632.0000 - val_loss: 70539672.0000\n",
      "Epoch 82/300\n",
      "37/37 [==============================] - 0s 3ms/step - loss: 68801504.0000 - val_loss: 70165440.0000\n",
      "Epoch 83/300\n",
      "37/37 [==============================] - 0s 3ms/step - loss: 68418232.0000 - val_loss: 69822192.0000\n",
      "Epoch 84/300\n",
      "37/37 [==============================] - 0s 3ms/step - loss: 68044872.0000 - val_loss: 69419136.0000\n",
      "Epoch 85/300\n",
      "37/37 [==============================] - 0s 3ms/step - loss: 67670168.0000 - val_loss: 69044752.0000\n",
      "Epoch 86/300\n",
      "37/37 [==============================] - 0s 3ms/step - loss: 67275072.0000 - val_loss: 68685656.0000\n",
      "Epoch 87/300\n",
      "37/37 [==============================] - 0s 4ms/step - loss: 66894180.0000 - val_loss: 68266416.0000\n",
      "Epoch 88/300\n",
      "37/37 [==============================] - 0s 3ms/step - loss: 66502220.0000 - val_loss: 67872136.0000\n",
      "Epoch 89/300\n",
      "37/37 [==============================] - 0s 3ms/step - loss: 66091960.0000 - val_loss: 67504208.0000\n",
      "Epoch 90/300\n",
      "37/37 [==============================] - 0s 3ms/step - loss: 65687664.0000 - val_loss: 67092940.0000\n",
      "Epoch 91/300\n",
      "37/37 [==============================] - 0s 3ms/step - loss: 65276544.0000 - val_loss: 66669984.0000\n",
      "Epoch 92/300\n",
      "37/37 [==============================] - 0s 3ms/step - loss: 64876868.0000 - val_loss: 66267960.0000\n",
      "Epoch 93/300\n",
      "37/37 [==============================] - 0s 3ms/step - loss: 64453580.0000 - val_loss: 65864832.0000\n",
      "Epoch 94/300\n",
      "37/37 [==============================] - 0s 3ms/step - loss: 64031152.0000 - val_loss: 65463044.0000\n",
      "Epoch 95/300\n",
      "37/37 [==============================] - 0s 3ms/step - loss: 63608016.0000 - val_loss: 65019616.0000\n",
      "Epoch 96/300\n",
      "37/37 [==============================] - 0s 3ms/step - loss: 63174360.0000 - val_loss: 64596044.0000\n",
      "Epoch 97/300\n",
      "37/37 [==============================] - 0s 3ms/step - loss: 62734520.0000 - val_loss: 64151032.0000\n",
      "Epoch 98/300\n",
      "37/37 [==============================] - 0s 3ms/step - loss: 62300488.0000 - val_loss: 63728752.0000\n",
      "Epoch 99/300\n",
      "37/37 [==============================] - 0s 3ms/step - loss: 61857108.0000 - val_loss: 63283608.0000\n",
      "Epoch 100/300\n",
      "37/37 [==============================] - 0s 3ms/step - loss: 61416848.0000 - val_loss: 62823456.0000\n",
      "Epoch 101/300\n",
      "37/37 [==============================] - 0s 3ms/step - loss: 60946528.0000 - val_loss: 62379340.0000\n",
      "Epoch 102/300\n",
      "37/37 [==============================] - 0s 3ms/step - loss: 60475808.0000 - val_loss: 61904344.0000\n",
      "Epoch 103/300\n",
      "37/37 [==============================] - 0s 3ms/step - loss: 60010428.0000 - val_loss: 61426400.0000\n",
      "Epoch 104/300\n",
      "37/37 [==============================] - 0s 3ms/step - loss: 59524360.0000 - val_loss: 60950888.0000\n",
      "Epoch 105/300\n",
      "37/37 [==============================] - 0s 3ms/step - loss: 59032720.0000 - val_loss: 60451376.0000\n",
      "Epoch 106/300\n",
      "37/37 [==============================] - 0s 3ms/step - loss: 58546496.0000 - val_loss: 59957240.0000\n",
      "Epoch 107/300\n",
      "37/37 [==============================] - 0s 3ms/step - loss: 58044068.0000 - val_loss: 59445912.0000\n",
      "Epoch 108/300\n",
      "37/37 [==============================] - 0s 3ms/step - loss: 57535180.0000 - val_loss: 58953752.0000\n",
      "Epoch 109/300\n",
      "37/37 [==============================] - 0s 3ms/step - loss: 57016884.0000 - val_loss: 58428200.0000\n",
      "Epoch 110/300\n",
      "37/37 [==============================] - 0s 3ms/step - loss: 56506232.0000 - val_loss: 57914236.0000\n",
      "Epoch 111/300\n",
      "37/37 [==============================] - 0s 3ms/step - loss: 55974284.0000 - val_loss: 57361664.0000\n",
      "Epoch 112/300\n",
      "37/37 [==============================] - 0s 3ms/step - loss: 55420596.0000 - val_loss: 56803608.0000\n",
      "Epoch 113/300\n",
      "37/37 [==============================] - 0s 3ms/step - loss: 54882184.0000 - val_loss: 56242920.0000\n",
      "Epoch 114/300\n",
      "37/37 [==============================] - 0s 3ms/step - loss: 54316160.0000 - val_loss: 55737688.0000\n",
      "Epoch 115/300\n",
      "37/37 [==============================] - 0s 3ms/step - loss: 53743424.0000 - val_loss: 55105708.0000\n",
      "Epoch 116/300\n",
      "37/37 [==============================] - 0s 3ms/step - loss: 53187900.0000 - val_loss: 54562332.0000\n",
      "Epoch 117/300\n",
      "37/37 [==============================] - 0s 3ms/step - loss: 52623152.0000 - val_loss: 53932824.0000\n",
      "Epoch 118/300\n",
      "37/37 [==============================] - 0s 3ms/step - loss: 51994500.0000 - val_loss: 53333596.0000\n",
      "Epoch 119/300\n",
      "37/37 [==============================] - 0s 3ms/step - loss: 51387328.0000 - val_loss: 52758336.0000\n",
      "Epoch 120/300\n",
      "37/37 [==============================] - 0s 3ms/step - loss: 50770288.0000 - val_loss: 52103212.0000\n",
      "Epoch 121/300\n",
      "37/37 [==============================] - 0s 3ms/step - loss: 50160208.0000 - val_loss: 51515240.0000\n",
      "Epoch 122/300\n",
      "37/37 [==============================] - 0s 3ms/step - loss: 49542516.0000 - val_loss: 50844824.0000\n",
      "Epoch 123/300\n",
      "37/37 [==============================] - 0s 3ms/step - loss: 48910060.0000 - val_loss: 50215608.0000\n",
      "Epoch 124/300\n",
      "37/37 [==============================] - 0s 3ms/step - loss: 48253228.0000 - val_loss: 49547600.0000\n",
      "Epoch 125/300\n",
      "37/37 [==============================] - 0s 3ms/step - loss: 47620696.0000 - val_loss: 48902840.0000\n",
      "Epoch 126/300\n",
      "37/37 [==============================] - 0s 3ms/step - loss: 46968580.0000 - val_loss: 48226840.0000\n",
      "Epoch 127/300\n",
      "37/37 [==============================] - 0s 3ms/step - loss: 46314284.0000 - val_loss: 47584560.0000\n",
      "Epoch 128/300\n",
      "37/37 [==============================] - 0s 3ms/step - loss: 45656276.0000 - val_loss: 46893564.0000\n",
      "Epoch 129/300\n",
      "37/37 [==============================] - 0s 3ms/step - loss: 44994072.0000 - val_loss: 46195200.0000\n",
      "Epoch 130/300\n",
      "37/37 [==============================] - 0s 3ms/step - loss: 44316188.0000 - val_loss: 45517700.0000\n",
      "Epoch 131/300\n",
      "37/37 [==============================] - 0s 3ms/step - loss: 43651572.0000 - val_loss: 44836736.0000\n",
      "Epoch 132/300\n",
      "37/37 [==============================] - 0s 3ms/step - loss: 42987924.0000 - val_loss: 44150168.0000\n",
      "Epoch 133/300\n",
      "37/37 [==============================] - 0s 4ms/step - loss: 42337624.0000 - val_loss: 43481216.0000\n",
      "Epoch 134/300\n",
      "37/37 [==============================] - 0s 3ms/step - loss: 41684248.0000 - val_loss: 42826112.0000\n",
      "Epoch 135/300\n",
      "37/37 [==============================] - 0s 3ms/step - loss: 41042392.0000 - val_loss: 42138400.0000\n",
      "Epoch 136/300\n",
      "37/37 [==============================] - 0s 3ms/step - loss: 40397280.0000 - val_loss: 41488068.0000\n",
      "Epoch 137/300\n",
      "37/37 [==============================] - 0s 3ms/step - loss: 39778284.0000 - val_loss: 40858404.0000\n",
      "Epoch 138/300\n",
      "37/37 [==============================] - 0s 3ms/step - loss: 39169088.0000 - val_loss: 40217428.0000\n",
      "Epoch 139/300\n",
      "37/37 [==============================] - 0s 3ms/step - loss: 38552460.0000 - val_loss: 39571392.0000\n",
      "Epoch 140/300\n",
      "37/37 [==============================] - 0s 3ms/step - loss: 37968036.0000 - val_loss: 38978332.0000\n",
      "Epoch 141/300\n",
      "37/37 [==============================] - 0s 3ms/step - loss: 37422572.0000 - val_loss: 38417120.0000\n",
      "Epoch 142/300\n",
      "37/37 [==============================] - 0s 3ms/step - loss: 36869332.0000 - val_loss: 37811412.0000\n",
      "Epoch 143/300\n",
      "37/37 [==============================] - 0s 3ms/step - loss: 36337524.0000 - val_loss: 37277864.0000\n",
      "Epoch 144/300\n",
      "37/37 [==============================] - 0s 3ms/step - loss: 35834392.0000 - val_loss: 36745700.0000\n",
      "Epoch 145/300\n",
      "37/37 [==============================] - 0s 3ms/step - loss: 35357744.0000 - val_loss: 36259500.0000\n",
      "Epoch 146/300\n",
      "37/37 [==============================] - 0s 3ms/step - loss: 34885532.0000 - val_loss: 35753312.0000\n",
      "Epoch 147/300\n",
      "37/37 [==============================] - 0s 3ms/step - loss: 34429576.0000 - val_loss: 35301764.0000\n",
      "Epoch 148/300\n",
      "37/37 [==============================] - 0s 3ms/step - loss: 34016552.0000 - val_loss: 34842964.0000\n",
      "Epoch 149/300\n",
      "37/37 [==============================] - 0s 3ms/step - loss: 33575132.0000 - val_loss: 34410416.0000\n",
      "Epoch 150/300\n",
      "37/37 [==============================] - 0s 3ms/step - loss: 33207902.0000 - val_loss: 33988820.0000\n",
      "Epoch 151/300\n",
      "37/37 [==============================] - 0s 3ms/step - loss: 32824992.0000 - val_loss: 33594788.0000\n",
      "Epoch 152/300\n",
      "37/37 [==============================] - 0s 3ms/step - loss: 32448452.0000 - val_loss: 33226450.0000\n",
      "Epoch 153/300\n",
      "37/37 [==============================] - 0s 3ms/step - loss: 32123234.0000 - val_loss: 32876500.0000\n",
      "Epoch 154/300\n",
      "37/37 [==============================] - 0s 3ms/step - loss: 31757822.0000 - val_loss: 32478442.0000\n",
      "Epoch 155/300\n",
      "37/37 [==============================] - 0s 3ms/step - loss: 31422078.0000 - val_loss: 32135346.0000\n",
      "Epoch 156/300\n",
      "37/37 [==============================] - 0s 3ms/step - loss: 31077156.0000 - val_loss: 31773358.0000\n",
      "Epoch 157/300\n",
      "37/37 [==============================] - 0s 3ms/step - loss: 30718486.0000 - val_loss: 31431124.0000\n",
      "Epoch 158/300\n",
      "37/37 [==============================] - 0s 3ms/step - loss: 30362868.0000 - val_loss: 31031972.0000\n",
      "Epoch 159/300\n",
      "37/37 [==============================] - 0s 3ms/step - loss: 29981294.0000 - val_loss: 30656742.0000\n",
      "Epoch 160/300\n",
      "37/37 [==============================] - 0s 3ms/step - loss: 29597554.0000 - val_loss: 30278238.0000\n",
      "Epoch 161/300\n",
      "37/37 [==============================] - 0s 3ms/step - loss: 29225944.0000 - val_loss: 29901864.0000\n",
      "Epoch 162/300\n",
      "37/37 [==============================] - 0s 3ms/step - loss: 28875986.0000 - val_loss: 29565022.0000\n",
      "Epoch 163/300\n",
      "37/37 [==============================] - 0s 3ms/step - loss: 28486986.0000 - val_loss: 29168566.0000\n",
      "Epoch 164/300\n",
      "37/37 [==============================] - 0s 3ms/step - loss: 28118310.0000 - val_loss: 28817824.0000\n",
      "Epoch 165/300\n",
      "37/37 [==============================] - 0s 3ms/step - loss: 27750950.0000 - val_loss: 28460800.0000\n",
      "Epoch 166/300\n",
      "37/37 [==============================] - 0s 3ms/step - loss: 27396972.0000 - val_loss: 28119282.0000\n",
      "Epoch 167/300\n",
      "37/37 [==============================] - 0s 3ms/step - loss: 27061456.0000 - val_loss: 27784664.0000\n",
      "Epoch 168/300\n",
      "37/37 [==============================] - 0s 3ms/step - loss: 26708830.0000 - val_loss: 27483498.0000\n",
      "Epoch 169/300\n",
      "37/37 [==============================] - 0s 3ms/step - loss: 26396720.0000 - val_loss: 27177530.0000\n",
      "Epoch 170/300\n",
      "37/37 [==============================] - 0s 3ms/step - loss: 26085650.0000 - val_loss: 26909778.0000\n",
      "Epoch 171/300\n",
      "37/37 [==============================] - 0s 3ms/step - loss: 25804794.0000 - val_loss: 26637830.0000\n",
      "Epoch 172/300\n",
      "37/37 [==============================] - 0s 3ms/step - loss: 25539760.0000 - val_loss: 26395926.0000\n",
      "Epoch 173/300\n",
      "37/37 [==============================] - 0s 3ms/step - loss: 25275310.0000 - val_loss: 26159206.0000\n",
      "Epoch 174/300\n",
      "37/37 [==============================] - 0s 3ms/step - loss: 25040614.0000 - val_loss: 26049194.0000\n",
      "Epoch 175/300\n",
      "37/37 [==============================] - 0s 3ms/step - loss: 24872310.0000 - val_loss: 25750802.0000\n",
      "Epoch 176/300\n",
      "37/37 [==============================] - 0s 4ms/step - loss: 24620644.0000 - val_loss: 25576610.0000\n",
      "Epoch 177/300\n",
      "37/37 [==============================] - 0s 4ms/step - loss: 24444500.0000 - val_loss: 25399018.0000\n",
      "Epoch 178/300\n",
      "37/37 [==============================] - 0s 3ms/step - loss: 24271134.0000 - val_loss: 25233278.0000\n",
      "Epoch 179/300\n",
      "37/37 [==============================] - 0s 3ms/step - loss: 24112168.0000 - val_loss: 25055698.0000\n",
      "Epoch 180/300\n",
      "37/37 [==============================] - 0s 4ms/step - loss: 23952454.0000 - val_loss: 24900594.0000\n",
      "Epoch 181/300\n",
      "37/37 [==============================] - 0s 3ms/step - loss: 23803066.0000 - val_loss: 24766306.0000\n",
      "Epoch 182/300\n",
      "37/37 [==============================] - 0s 3ms/step - loss: 23651754.0000 - val_loss: 24622522.0000\n",
      "Epoch 183/300\n",
      "37/37 [==============================] - 0s 3ms/step - loss: 23500906.0000 - val_loss: 24483080.0000\n",
      "Epoch 184/300\n",
      "37/37 [==============================] - 0s 3ms/step - loss: 23370854.0000 - val_loss: 24352394.0000\n",
      "Epoch 185/300\n",
      "37/37 [==============================] - 0s 3ms/step - loss: 23254396.0000 - val_loss: 24230978.0000\n",
      "Epoch 186/300\n",
      "37/37 [==============================] - 0s 3ms/step - loss: 23110212.0000 - val_loss: 24112184.0000\n",
      "Epoch 187/300\n",
      "37/37 [==============================] - 0s 3ms/step - loss: 22998408.0000 - val_loss: 23994896.0000\n",
      "Epoch 188/300\n",
      "37/37 [==============================] - 0s 3ms/step - loss: 22869384.0000 - val_loss: 23882274.0000\n",
      "Epoch 189/300\n",
      "37/37 [==============================] - 0s 3ms/step - loss: 22764280.0000 - val_loss: 23785434.0000\n",
      "Epoch 190/300\n",
      "37/37 [==============================] - 0s 3ms/step - loss: 22638830.0000 - val_loss: 23670010.0000\n",
      "Epoch 191/300\n",
      "37/37 [==============================] - 0s 3ms/step - loss: 22530272.0000 - val_loss: 23571096.0000\n",
      "Epoch 192/300\n",
      "37/37 [==============================] - 0s 3ms/step - loss: 22425134.0000 - val_loss: 23473862.0000\n",
      "Epoch 193/300\n",
      "37/37 [==============================] - 0s 3ms/step - loss: 22323950.0000 - val_loss: 23386582.0000\n",
      "Epoch 194/300\n",
      "37/37 [==============================] - 0s 3ms/step - loss: 22224874.0000 - val_loss: 23322592.0000\n",
      "Epoch 195/300\n",
      "37/37 [==============================] - 0s 3ms/step - loss: 22138868.0000 - val_loss: 23219994.0000\n",
      "Epoch 196/300\n",
      "37/37 [==============================] - 0s 3ms/step - loss: 22042036.0000 - val_loss: 23140244.0000\n",
      "Epoch 197/300\n",
      "37/37 [==============================] - 0s 3ms/step - loss: 21956878.0000 - val_loss: 23106732.0000\n",
      "Epoch 198/300\n",
      "37/37 [==============================] - 0s 3ms/step - loss: 21892214.0000 - val_loss: 23003366.0000\n",
      "Epoch 199/300\n",
      "37/37 [==============================] - 0s 3ms/step - loss: 21813226.0000 - val_loss: 22914934.0000\n",
      "Epoch 200/300\n",
      "37/37 [==============================] - 0s 3ms/step - loss: 21728404.0000 - val_loss: 22872946.0000\n",
      "Epoch 201/300\n",
      "37/37 [==============================] - 0s 3ms/step - loss: 21666340.0000 - val_loss: 22790662.0000\n",
      "Epoch 202/300\n",
      "37/37 [==============================] - 0s 3ms/step - loss: 21606712.0000 - val_loss: 22730086.0000\n",
      "Epoch 203/300\n",
      "37/37 [==============================] - 0s 3ms/step - loss: 21523414.0000 - val_loss: 22674796.0000\n",
      "Epoch 204/300\n",
      "37/37 [==============================] - 0s 3ms/step - loss: 21465124.0000 - val_loss: 22617316.0000\n",
      "Epoch 205/300\n",
      "37/37 [==============================] - 0s 3ms/step - loss: 21397312.0000 - val_loss: 22565248.0000\n",
      "Epoch 206/300\n",
      "37/37 [==============================] - 0s 3ms/step - loss: 21361110.0000 - val_loss: 22524388.0000\n",
      "Epoch 207/300\n",
      "37/37 [==============================] - 0s 3ms/step - loss: 21287028.0000 - val_loss: 22464120.0000\n",
      "Epoch 208/300\n",
      "37/37 [==============================] - 0s 3ms/step - loss: 21226440.0000 - val_loss: 22417114.0000\n",
      "Epoch 209/300\n",
      "37/37 [==============================] - 0s 3ms/step - loss: 21163194.0000 - val_loss: 22392976.0000\n",
      "Epoch 210/300\n",
      "37/37 [==============================] - 0s 3ms/step - loss: 21115130.0000 - val_loss: 22359376.0000\n",
      "Epoch 211/300\n",
      "37/37 [==============================] - 0s 4ms/step - loss: 21057664.0000 - val_loss: 22301948.0000\n",
      "Epoch 212/300\n",
      "37/37 [==============================] - 0s 3ms/step - loss: 21014308.0000 - val_loss: 22266490.0000\n",
      "Epoch 213/300\n",
      "37/37 [==============================] - 0s 3ms/step - loss: 20969312.0000 - val_loss: 22247768.0000\n",
      "Epoch 214/300\n",
      "37/37 [==============================] - 0s 3ms/step - loss: 20935298.0000 - val_loss: 22207492.0000\n",
      "Epoch 215/300\n",
      "37/37 [==============================] - 0s 3ms/step - loss: 20888788.0000 - val_loss: 22175138.0000\n",
      "Epoch 216/300\n",
      "37/37 [==============================] - 0s 3ms/step - loss: 20852024.0000 - val_loss: 22173492.0000\n",
      "Epoch 217/300\n",
      "37/37 [==============================] - 0s 3ms/step - loss: 20812200.0000 - val_loss: 22133384.0000\n",
      "Epoch 218/300\n",
      "37/37 [==============================] - 0s 3ms/step - loss: 20795030.0000 - val_loss: 22097846.0000\n",
      "Epoch 219/300\n",
      "37/37 [==============================] - 0s 3ms/step - loss: 20761628.0000 - val_loss: 22073708.0000\n",
      "Epoch 220/300\n",
      "37/37 [==============================] - 0s 4ms/step - loss: 20714340.0000 - val_loss: 22046278.0000\n",
      "Epoch 221/300\n",
      "37/37 [==============================] - 0s 3ms/step - loss: 20715320.0000 - val_loss: 22019276.0000\n",
      "Epoch 222/300\n",
      "37/37 [==============================] - 0s 3ms/step - loss: 20666784.0000 - val_loss: 22023650.0000\n",
      "Epoch 223/300\n",
      "37/37 [==============================] - 0s 3ms/step - loss: 20639680.0000 - val_loss: 21975480.0000\n",
      "Epoch 224/300\n",
      "37/37 [==============================] - 0s 3ms/step - loss: 20600730.0000 - val_loss: 21953996.0000\n",
      "Epoch 225/300\n",
      "37/37 [==============================] - 0s 3ms/step - loss: 20577712.0000 - val_loss: 21929426.0000\n",
      "Epoch 226/300\n",
      "37/37 [==============================] - 0s 4ms/step - loss: 20549462.0000 - val_loss: 21936822.0000\n",
      "Epoch 227/300\n",
      "37/37 [==============================] - 0s 3ms/step - loss: 20529692.0000 - val_loss: 21887998.0000\n",
      "Epoch 228/300\n",
      "37/37 [==============================] - 0s 3ms/step - loss: 20508432.0000 - val_loss: 21907302.0000\n",
      "Epoch 229/300\n",
      "37/37 [==============================] - 0s 3ms/step - loss: 20479784.0000 - val_loss: 21865822.0000\n",
      "Epoch 230/300\n",
      "37/37 [==============================] - 0s 3ms/step - loss: 20458830.0000 - val_loss: 21841268.0000\n",
      "Epoch 231/300\n",
      "37/37 [==============================] - 0s 3ms/step - loss: 20437690.0000 - val_loss: 21812830.0000\n",
      "Epoch 232/300\n",
      "37/37 [==============================] - 0s 3ms/step - loss: 20415752.0000 - val_loss: 21801086.0000\n",
      "Epoch 233/300\n",
      "37/37 [==============================] - 0s 3ms/step - loss: 20403892.0000 - val_loss: 21782382.0000\n",
      "Epoch 234/300\n",
      "37/37 [==============================] - 0s 3ms/step - loss: 20358868.0000 - val_loss: 21761212.0000\n",
      "Epoch 235/300\n",
      "37/37 [==============================] - 0s 3ms/step - loss: 20338650.0000 - val_loss: 21753272.0000\n",
      "Epoch 236/300\n",
      "37/37 [==============================] - 0s 3ms/step - loss: 20323650.0000 - val_loss: 21763610.0000\n",
      "Epoch 237/300\n",
      "37/37 [==============================] - 0s 3ms/step - loss: 20307532.0000 - val_loss: 21724580.0000\n",
      "Epoch 238/300\n",
      "37/37 [==============================] - 0s 3ms/step - loss: 20283706.0000 - val_loss: 21729050.0000\n",
      "Epoch 239/300\n",
      "37/37 [==============================] - 0s 3ms/step - loss: 20274500.0000 - val_loss: 21688578.0000\n",
      "Epoch 240/300\n",
      "37/37 [==============================] - 0s 4ms/step - loss: 20239924.0000 - val_loss: 21676332.0000\n",
      "Epoch 241/300\n",
      "37/37 [==============================] - 0s 3ms/step - loss: 20234286.0000 - val_loss: 21653180.0000\n",
      "Epoch 242/300\n",
      "37/37 [==============================] - 0s 3ms/step - loss: 20198358.0000 - val_loss: 21632568.0000\n",
      "Epoch 243/300\n",
      "37/37 [==============================] - 0s 3ms/step - loss: 20202912.0000 - val_loss: 21616248.0000\n",
      "Epoch 244/300\n",
      "37/37 [==============================] - 0s 3ms/step - loss: 20161736.0000 - val_loss: 21603114.0000\n",
      "Epoch 245/300\n",
      "37/37 [==============================] - 0s 3ms/step - loss: 20150668.0000 - val_loss: 21595180.0000\n",
      "Epoch 246/300\n",
      "37/37 [==============================] - 0s 3ms/step - loss: 20120506.0000 - val_loss: 21590340.0000\n",
      "Epoch 247/300\n",
      "37/37 [==============================] - 0s 3ms/step - loss: 20122152.0000 - val_loss: 21563448.0000\n",
      "Epoch 248/300\n",
      "37/37 [==============================] - 0s 3ms/step - loss: 20093150.0000 - val_loss: 21565962.0000\n",
      "Epoch 249/300\n",
      "37/37 [==============================] - 0s 3ms/step - loss: 20088380.0000 - val_loss: 21538966.0000\n",
      "Epoch 250/300\n",
      "37/37 [==============================] - 0s 3ms/step - loss: 20065428.0000 - val_loss: 21547048.0000\n",
      "Epoch 251/300\n",
      "37/37 [==============================] - 0s 3ms/step - loss: 20050584.0000 - val_loss: 21515810.0000\n",
      "Epoch 252/300\n",
      "37/37 [==============================] - 0s 3ms/step - loss: 20037970.0000 - val_loss: 21507498.0000\n",
      "Epoch 253/300\n",
      "37/37 [==============================] - 0s 3ms/step - loss: 20031868.0000 - val_loss: 21499156.0000\n",
      "Epoch 254/300\n",
      "37/37 [==============================] - 0s 4ms/step - loss: 20008274.0000 - val_loss: 21505146.0000\n",
      "Epoch 255/300\n",
      "37/37 [==============================] - 0s 3ms/step - loss: 20048604.0000 - val_loss: 21520330.0000\n",
      "Epoch 256/300\n",
      "37/37 [==============================] - 0s 3ms/step - loss: 19999112.0000 - val_loss: 21454362.0000\n",
      "Epoch 257/300\n",
      "37/37 [==============================] - 0s 3ms/step - loss: 19969032.0000 - val_loss: 21445438.0000\n",
      "Epoch 258/300\n",
      "37/37 [==============================] - 0s 3ms/step - loss: 19970486.0000 - val_loss: 21436250.0000\n",
      "Epoch 259/300\n",
      "37/37 [==============================] - 0s 3ms/step - loss: 19963568.0000 - val_loss: 21432064.0000\n",
      "Epoch 260/300\n",
      "37/37 [==============================] - 0s 3ms/step - loss: 19962156.0000 - val_loss: 21426562.0000\n",
      "Epoch 261/300\n",
      "37/37 [==============================] - 0s 3ms/step - loss: 19928654.0000 - val_loss: 21407842.0000\n",
      "Epoch 262/300\n",
      "37/37 [==============================] - 0s 3ms/step - loss: 19929036.0000 - val_loss: 21399846.0000\n",
      "Epoch 263/300\n",
      "37/37 [==============================] - 0s 4ms/step - loss: 19901956.0000 - val_loss: 21376456.0000\n",
      "Epoch 264/300\n",
      "37/37 [==============================] - 0s 3ms/step - loss: 19913202.0000 - val_loss: 21368180.0000\n",
      "Epoch 265/300\n",
      "37/37 [==============================] - 0s 3ms/step - loss: 19887534.0000 - val_loss: 21370830.0000\n",
      "Epoch 266/300\n",
      "37/37 [==============================] - 0s 3ms/step - loss: 19867388.0000 - val_loss: 21360758.0000\n",
      "Epoch 267/300\n",
      "37/37 [==============================] - 0s 4ms/step - loss: 19878016.0000 - val_loss: 21358434.0000\n",
      "Epoch 268/300\n",
      "37/37 [==============================] - 0s 3ms/step - loss: 19851980.0000 - val_loss: 21328800.0000\n",
      "Epoch 269/300\n",
      "37/37 [==============================] - 0s 3ms/step - loss: 19853128.0000 - val_loss: 21327758.0000\n",
      "Epoch 270/300\n",
      "37/37 [==============================] - 0s 3ms/step - loss: 19851664.0000 - val_loss: 21353996.0000\n",
      "Epoch 271/300\n",
      "37/37 [==============================] - 0s 3ms/step - loss: 19825106.0000 - val_loss: 21299504.0000\n",
      "Epoch 272/300\n",
      "37/37 [==============================] - 0s 3ms/step - loss: 19799804.0000 - val_loss: 21423540.0000\n",
      "Epoch 273/300\n",
      "37/37 [==============================] - 0s 3ms/step - loss: 19822320.0000 - val_loss: 21289680.0000\n",
      "Epoch 274/300\n",
      "37/37 [==============================] - 0s 3ms/step - loss: 19799134.0000 - val_loss: 21273360.0000\n",
      "Epoch 275/300\n",
      "37/37 [==============================] - 0s 3ms/step - loss: 19783618.0000 - val_loss: 21257316.0000\n",
      "Epoch 276/300\n",
      "37/37 [==============================] - 0s 4ms/step - loss: 19765290.0000 - val_loss: 21245476.0000\n",
      "Epoch 277/300\n",
      "37/37 [==============================] - 0s 3ms/step - loss: 19759252.0000 - val_loss: 21246550.0000\n",
      "Epoch 278/300\n",
      "37/37 [==============================] - 0s 3ms/step - loss: 19739316.0000 - val_loss: 21231580.0000\n",
      "Epoch 279/300\n",
      "37/37 [==============================] - 0s 3ms/step - loss: 19749062.0000 - val_loss: 21216734.0000\n",
      "Epoch 280/300\n",
      "37/37 [==============================] - 0s 3ms/step - loss: 19719182.0000 - val_loss: 21204428.0000\n",
      "Epoch 281/300\n",
      "37/37 [==============================] - 0s 3ms/step - loss: 19718136.0000 - val_loss: 21199340.0000\n",
      "Epoch 282/300\n",
      "37/37 [==============================] - 0s 3ms/step - loss: 19739756.0000 - val_loss: 21189222.0000\n",
      "Epoch 283/300\n",
      "37/37 [==============================] - 0s 3ms/step - loss: 19690640.0000 - val_loss: 21186158.0000\n",
      "Epoch 284/300\n",
      "37/37 [==============================] - 0s 3ms/step - loss: 19684286.0000 - val_loss: 21172468.0000\n",
      "Epoch 285/300\n",
      "37/37 [==============================] - 0s 3ms/step - loss: 19674586.0000 - val_loss: 21157258.0000\n",
      "Epoch 286/300\n",
      "37/37 [==============================] - 0s 3ms/step - loss: 19683724.0000 - val_loss: 21147836.0000\n",
      "Epoch 287/300\n",
      "37/37 [==============================] - 0s 3ms/step - loss: 19671060.0000 - val_loss: 21167312.0000\n",
      "Epoch 288/300\n",
      "37/37 [==============================] - 0s 3ms/step - loss: 19659234.0000 - val_loss: 21134262.0000\n",
      "Epoch 289/300\n",
      "37/37 [==============================] - 0s 3ms/step - loss: 19633322.0000 - val_loss: 21129382.0000\n",
      "Epoch 290/300\n",
      "37/37 [==============================] - 0s 3ms/step - loss: 19639708.0000 - val_loss: 21130908.0000\n",
      "Epoch 291/300\n",
      "37/37 [==============================] - 0s 3ms/step - loss: 19620410.0000 - val_loss: 21160376.0000\n",
      "Epoch 292/300\n",
      "37/37 [==============================] - 0s 3ms/step - loss: 19617902.0000 - val_loss: 21117568.0000\n",
      "Epoch 293/300\n",
      "37/37 [==============================] - 0s 3ms/step - loss: 19593832.0000 - val_loss: 21102506.0000\n",
      "Epoch 294/300\n",
      "37/37 [==============================] - 0s 3ms/step - loss: 19596932.0000 - val_loss: 21078410.0000\n",
      "Epoch 295/300\n",
      "37/37 [==============================] - 0s 3ms/step - loss: 19582790.0000 - val_loss: 21078974.0000\n",
      "Epoch 296/300\n",
      "37/37 [==============================] - 0s 3ms/step - loss: 19575488.0000 - val_loss: 21062892.0000\n",
      "Epoch 297/300\n",
      "37/37 [==============================] - 0s 3ms/step - loss: 19576918.0000 - val_loss: 21049414.0000\n",
      "Epoch 298/300\n",
      "37/37 [==============================] - 0s 3ms/step - loss: 19554002.0000 - val_loss: 21035734.0000\n",
      "Epoch 299/300\n",
      "37/37 [==============================] - 0s 3ms/step - loss: 19546506.0000 - val_loss: 21078872.0000\n",
      "Epoch 300/300\n",
      "37/37 [==============================] - 0s 4ms/step - loss: 19555310.0000 - val_loss: 21023414.0000\n"
     ]
    },
    {
     "data": {
      "text/plain": [
       "<keras.src.callbacks.History at 0x200b145e910>"
      ]
     },
     "execution_count": 138,
     "metadata": {},
     "output_type": "execute_result"
    }
   ],
   "source": [
    "model.fit(x=x_train, y= y_train, validation_data=(x_test,y_test),batch_size=250,epochs=300)"
   ]
  },
  {
   "cell_type": "code",
   "execution_count": 143,
   "id": "4e3d0327-cdef-459d-8887-4498a5c23023",
   "metadata": {},
   "outputs": [],
   "source": [
    "loss =  pd.DataFrame(model.history.history)"
   ]
  },
  {
   "cell_type": "code",
   "execution_count": 144,
   "id": "92a1113e-b14a-4e78-9b6e-ff2be4c9f0b3",
   "metadata": {},
   "outputs": [
    {
     "data": {
      "text/html": [
       "<div>\n",
       "<style scoped>\n",
       "    .dataframe tbody tr th:only-of-type {\n",
       "        vertical-align: middle;\n",
       "    }\n",
       "\n",
       "    .dataframe tbody tr th {\n",
       "        vertical-align: top;\n",
       "    }\n",
       "\n",
       "    .dataframe thead th {\n",
       "        text-align: right;\n",
       "    }\n",
       "</style>\n",
       "<table border=\"1\" class=\"dataframe\">\n",
       "  <thead>\n",
       "    <tr style=\"text-align: right;\">\n",
       "      <th></th>\n",
       "      <th>loss</th>\n",
       "      <th>val_loss</th>\n",
       "    </tr>\n",
       "  </thead>\n",
       "  <tbody>\n",
       "    <tr>\n",
       "      <th>0</th>\n",
       "      <td>672148032.0</td>\n",
       "      <td>688110016.0</td>\n",
       "    </tr>\n",
       "    <tr>\n",
       "      <th>1</th>\n",
       "      <td>672139328.0</td>\n",
       "      <td>688096448.0</td>\n",
       "    </tr>\n",
       "    <tr>\n",
       "      <th>2</th>\n",
       "      <td>672114048.0</td>\n",
       "      <td>688050432.0</td>\n",
       "    </tr>\n",
       "    <tr>\n",
       "      <th>3</th>\n",
       "      <td>672025920.0</td>\n",
       "      <td>687892736.0</td>\n",
       "    </tr>\n",
       "    <tr>\n",
       "      <th>4</th>\n",
       "      <td>671750336.0</td>\n",
       "      <td>687435072.0</td>\n",
       "    </tr>\n",
       "  </tbody>\n",
       "</table>\n",
       "</div>"
      ],
      "text/plain": [
       "          loss     val_loss\n",
       "0  672148032.0  688110016.0\n",
       "1  672139328.0  688096448.0\n",
       "2  672114048.0  688050432.0\n",
       "3  672025920.0  687892736.0\n",
       "4  671750336.0  687435072.0"
      ]
     },
     "execution_count": 144,
     "metadata": {},
     "output_type": "execute_result"
    }
   ],
   "source": [
    "loss.head()"
   ]
  },
  {
   "cell_type": "code",
   "execution_count": 145,
   "id": "013342af-628f-4bb0-9934-2d528ef54785",
   "metadata": {},
   "outputs": [
    {
     "data": {
      "text/plain": [
       "<Axes: >"
      ]
     },
     "execution_count": 145,
     "metadata": {},
     "output_type": "execute_result"
    },
    {
     "data": {
      "image/png": "[encoded data removed]",
      "text/plain": [
       "<Figure size 640x480 with 1 Axes>"
      ]
     },
     "metadata": {},
     "output_type": "display_data"
    }
   ],
   "source": [
    "loss.plot()"
   ]
  },
  {
   "cell_type": "code",
   "execution_count": 146,
   "id": "15ed9931-4d4d-4cfb-ab8c-68a370c7819e",
   "metadata": {},
   "outputs": [],
   "source": [
    "from sklearn.metrics import mean_absolute_error, mean_squared_error"
   ]
  },
  {
   "cell_type": "code",
   "execution_count": 147,
   "id": "bfcd607a-77d3-4716-a329-aa524a800303",
   "metadata": {},
   "outputs": [
    {
     "name": "stdout",
     "output_type": "stream",
     "text": [
      "122/122 [==============================] - 0s 1ms/step\n"
     ]
    }
   ],
   "source": [
    "forecastArray = model.predict(x_test)"
   ]
  },
  {
   "cell_type": "code",
   "execution_count": 148,
   "id": "bee09f1b-bf23-4411-bccc-5140af6945f8",
   "metadata": {},
   "outputs": [
    {
     "data": {
      "text/plain": [
       "array([[22051.648],\n",
       "       [24058.816],\n",
       "       [24815.832],\n",
       "       ...,\n",
       "       [26161.035],\n",
       "       [12512.3  ],\n",
       "       [24562.215]], dtype=float32)"
      ]
     },
     "execution_count": 148,
     "metadata": {},
     "output_type": "execute_result"
    }
   ],
   "source": [
    "forecastArray"
   ]
  },
  {
   "cell_type": "code",
   "execution_count": 151,
   "id": "799604d6-949d-487c-8e14-a5e6671ee6e8",
   "metadata": {},
   "outputs": [
    {
     "data": {
      "text/plain": [
       "3252.337736134166"
      ]
     },
     "execution_count": 151,
     "metadata": {},
     "output_type": "execute_result"
    }
   ],
   "source": [
    "mean_absolute_error(y_test,forecastArray) # 3250 pound fark yaklaşık %13 sapma"
   ]
  },
  {
   "cell_type": "code",
   "execution_count": 152,
   "id": "302a7307-cac1-40fa-9818-ff40bc99cf37",
   "metadata": {},
   "outputs": [
    {
     "data": {
      "text/plain": [
       "[<matplotlib.lines.Line2D at 0x200b5242210>]"
      ]
     },
     "execution_count": 152,
     "metadata": {},
     "output_type": "execute_result"
    },
    {
     "data": {
      "image/png": "[encoded data removed]",
      "text/plain": [
       "<Figure size 640x480 with 1 Axes>"
      ]
     },
     "metadata": {},
     "output_type": "display_data"
    }
   ],
   "source": [
    "plt.scatter(y_test,forecastArray)\n",
    "plt.plot(y_test,y_test,\"g--*\")"
   ]
  },
  {
   "cell_type": "code",
   "execution_count": 154,
   "id": "aab72e4a-68a7-40dd-ad02-47572b75975b",
   "metadata": {},
   "outputs": [
    {
     "data": {
      "text/plain": [
       "year           2020.0\n",
       "price         65980.0\n",
       "mileage        3999.0\n",
       "tax             145.0\n",
       "mpg              28.0\n",
       "engineSize        4.0\n",
       "Name: 3191, dtype: float64"
      ]
     },
     "execution_count": 154,
     "metadata": {},
     "output_type": "execute_result"
    }
   ],
   "source": [
    "clearData.iloc[2]"
   ]
  },
  {
   "cell_type": "code",
   "execution_count": 157,
   "id": "a8a7a998-3317-44c1-b1f5-662a2ed48868",
   "metadata": {},
   "outputs": [],
   "source": [
    "newCarSeries = clearData.drop(\"price\",axis=1).iloc[2]"
   ]
  },
  {
   "cell_type": "code",
   "execution_count": 158,
   "id": "b85ab272-45ed-4f6d-8097-2988edef81e1",
   "metadata": {},
   "outputs": [
    {
     "data": {
      "text/plain": [
       "year          2020.0\n",
       "mileage       3999.0\n",
       "tax            145.0\n",
       "mpg             28.0\n",
       "engineSize       4.0\n",
       "Name: 3191, dtype: float64"
      ]
     },
     "execution_count": 158,
     "metadata": {},
     "output_type": "execute_result"
    }
   ],
   "source": [
    "newCarSeries"
   ]
  },
  {
   "cell_type": "code",
   "execution_count": 160,
   "id": "5b83c22f-1831-4bfd-a115-3f7ac2fb9426",
   "metadata": {},
   "outputs": [],
   "source": [
    "newCarSeries = scaler.transform(newCarSeries.values.reshape(-1,5))"
   ]
  },
  {
   "cell_type": "code",
   "execution_count": 161,
   "id": "84894422-374a-454b-94b5-66d8776e79df",
   "metadata": {},
   "outputs": [
    {
     "name": "stdout",
     "output_type": "stream",
     "text": [
      "1/1 [==============================] - 0s 24ms/step\n"
     ]
    },
    {
     "data": {
      "text/plain": [
       "array([[61515.18]], dtype=float32)"
      ]
     },
     "execution_count": 161,
     "metadata": {},
     "output_type": "execute_result"
    }
   ],
   "source": [
    "model.predict(newCarSeries)"
   ]
  }
 ],
 "metadata": {
  "kernelspec": {
   "display_name": "Python 3 (ipykernel)",
   "language": "python",
   "name": "python3"
  },
  "language_info": {
   "codemirror_mode": {
    "name": "ipython",
    "version": 3
   },
   "file_extension": ".py",
   "mimetype": "text/x-python",
   "name": "python",
   "nbconvert_exporter": "python",
   "pygments_lexer": "ipython3",
   "version": "3.11.0"
  }
 },
 "nbformat": 4,
 "nbformat_minor": 5
}
